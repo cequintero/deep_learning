{
  "nbformat": 4,
  "nbformat_minor": 0,
  "metadata": {
    "colab": {
      "name": "CNN_MNIST.ipynb",
      "provenance": [],
      "authorship_tag": "ABX9TyMhQOg8h0oFG5TMqYrEREQv",
      "include_colab_link": true
    },
    "kernelspec": {
      "name": "python3",
      "display_name": "Python 3"
    },
    "language_info": {
      "name": "python"
    }
  },
  "cells": [
    {
      "cell_type": "markdown",
      "metadata": {
        "id": "view-in-github",
        "colab_type": "text"
      },
      "source": [
        "<a href=\"https://colab.research.google.com/github/cequintero/deep_learning/blob/main/CNN_MNIST.ipynb\" target=\"_parent\"><img src=\"https://colab.research.google.com/assets/colab-badge.svg\" alt=\"Open In Colab\"/></a>"
      ]
    },
    {
      "cell_type": "code",
      "metadata": {
        "id": "w4mcB8sTnzEJ",
        "colab": {
          "base_uri": "https://localhost:8080/"
        },
        "outputId": "78553733-d166-4a7d-d264-f2eccd0677c1"
      },
      "source": [
        "%tensorflow_version 2.x\n",
        "\n",
        "import tensorflow as tf\n",
        "from tensorflow.keras.utils import to_categorical\n",
        "\n",
        "mnist = tf.keras.datasets.mnist\n",
        "(train_images, train_labels),(test_images, test_labels) = mnist.load_data()\n"
      ],
      "execution_count": 1,
      "outputs": [
        {
          "output_type": "stream",
          "name": "stdout",
          "text": [
            "Downloading data from https://storage.googleapis.com/tensorflow/tf-keras-datasets/mnist.npz\n",
            "11493376/11490434 [==============================] - 0s 0us/step\n",
            "11501568/11490434 [==============================] - 0s 0us/step\n"
          ]
        }
      ]
    },
    {
      "cell_type": "code",
      "metadata": {
        "id": "oofRmCH8pJwe"
      },
      "source": [
        "train_imagges = train_images.reshape((60000,28,28,1))\n",
        "train_images = train_images.astype('float32')/255\n",
        "\n",
        "test_imagges = test_images.reshape((10000,28,28,1))\n",
        "test_images = test_images.astype('float32')/255\n",
        "\n",
        "train_labels = to_categorical(train_labels)\n",
        "test_labels = to_categorical(test_labels)"
      ],
      "execution_count": 2,
      "outputs": []
    },
    {
      "cell_type": "code",
      "metadata": {
        "id": "zqCBpt9Sq3bG"
      },
      "source": [
        "from tensorflow.keras import Sequential\n",
        "from tensorflow.keras.layers import Conv2D, MaxPooling2D, Dense, Flatten\n",
        "\n",
        "model = Sequential()\n",
        "model.add(Conv2D(32,(5,5), activation='relu',\n",
        "                 input_shape=(28,28,1)))\n",
        "model.add(MaxPooling2D((2,2)))\n",
        "model.add(Conv2D(64, (5,5), activation='relu'))\n",
        "model.add(MaxPooling2D((2,2)))\n",
        "model.add(Flatten())\n",
        "model.add(Dense(10, activation='softmax'))"
      ],
      "execution_count": 3,
      "outputs": []
    },
    {
      "cell_type": "code",
      "metadata": {
        "id": "qZtl1kwDqc2v"
      },
      "source": [
        "model.compile(loss='categorical_crossentropy',\n",
        "              optimizer='sgd',\n",
        "              metrics=['accuracy'])"
      ],
      "execution_count": 4,
      "outputs": []
    },
    {
      "cell_type": "code",
      "metadata": {
        "id": "MAxM1D0UsQCf",
        "colab": {
          "base_uri": "https://localhost:8080/"
        },
        "outputId": "4234d86d-d7bc-4ea6-8fe0-e5b96771a431"
      },
      "source": [
        "model.fit(train_images, train_labels,\n",
        "          batch_size=100,\n",
        "          epochs=5,\n",
        "          verbose=1)\n",
        "\n",
        "test_loss, test_acc = model.evaluate(test_images, test_labels)\n",
        "\n",
        "print('Test accuracy: ', test_acc)"
      ],
      "execution_count": 5,
      "outputs": [
        {
          "output_type": "stream",
          "name": "stdout",
          "text": [
            "Epoch 1/5\n",
            "600/600 [==============================] - 57s 93ms/step - loss: 0.8930 - accuracy: 0.7813\n",
            "Epoch 2/5\n",
            "600/600 [==============================] - 56s 93ms/step - loss: 0.2583 - accuracy: 0.9233\n",
            "Epoch 3/5\n",
            "600/600 [==============================] - 56s 93ms/step - loss: 0.1879 - accuracy: 0.9449\n",
            "Epoch 4/5\n",
            "600/600 [==============================] - 56s 93ms/step - loss: 0.1506 - accuracy: 0.9561\n",
            "Epoch 5/5\n",
            "600/600 [==============================] - 56s 93ms/step - loss: 0.1283 - accuracy: 0.9626\n",
            "313/313 [==============================] - 3s 10ms/step - loss: 0.1124 - accuracy: 0.9662\n",
            "Test accuracy:  0.9661999940872192\n"
          ]
        }
      ]
    }
  ]
}